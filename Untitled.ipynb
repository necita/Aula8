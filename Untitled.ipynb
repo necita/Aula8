{
 "cells": [
  {
   "cell_type": "code",
   "execution_count": 3,
   "metadata": {
    "collapsed": false
   },
   "outputs": [
    {
     "data": {
      "text/plain": [
       "array([ 0.,  0., -0.])"
      ]
     },
     "execution_count": 3,
     "metadata": {},
     "output_type": "execute_result"
    }
   ],
   "source": [
    "import numpy as np\n",
    "def triangularSuperior(a,b,n): #n dimensão da matriz, matriz a(já está triangulada) e matriz b\n",
    "    n = np.shape(a)[0]\n",
    "    x = np.zeros(n)\n",
    "    x[n-1] = b[n-1]/a[n-1][n-1]\n",
    "    for i in range ((n),0):\n",
    "        s = 0\n",
    "        for j in range ((k+1), n):\n",
    "            s = s + a[k][j]*x[j]\n",
    "            x[k] = (b[k]-s)/ a[k][k]\n",
    "    return x\n",
    "a = [[3,2,4],[0,1/3,2/3],[0,0,-8]]\n",
    "b = [1,5/3,0]\n",
    "n = 3\n",
    "triangularSuperior(a,b,n)"
   ]
  },
  {
   "cell_type": "code",
   "execution_count": 4,
   "metadata": {
    "collapsed": false
   },
   "outputs": [
    {
     "name": "stdout",
     "output_type": "stream",
     "text": [
      "[[3, 2, 4], [0, 0.3333333333333333, 0.6666666666666666], [0, 0, -8.0]]\n"
     ]
    }
   ],
   "source": [
    "def eliminacao(a,b,n):\n",
    "    for k in range (0,(n)):\n",
    "        for i in range ((k+1), n):\n",
    "            m = a[i][k] / a[k][k]\n",
    "            a[i][k] = 0\n",
    "            for j in range ((k+1), n):\n",
    "                a[i][j] = a[i][j] - m * a[k][j]\n",
    "                b[i] = b[i] - m * b[k]\n",
    "    print(a)\n",
    "eliminacao(a,b,n)"
   ]
  }
 ],
 "metadata": {
  "anaconda-cloud": {},
  "kernelspec": {
   "display_name": "Python [default]",
   "language": "python",
   "name": "python3"
  },
  "language_info": {
   "codemirror_mode": {
    "name": "ipython",
    "version": 3
   },
   "file_extension": ".py",
   "mimetype": "text/x-python",
   "name": "python",
   "nbconvert_exporter": "python",
   "pygments_lexer": "ipython3",
   "version": "3.5.2"
  }
 },
 "nbformat": 4,
 "nbformat_minor": 1
}
